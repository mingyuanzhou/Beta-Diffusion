{
 "cells": [
  {
   "cell_type": "code",
   "execution_count": null,
   "id": "e708c83c-ce23-41af-90c0-281020cf15a9",
   "metadata": {},
   "outputs": [],
   "source": [
    "\n",
    "!sh FID.sh 'betadiff-train-runs/00000-cifar10-32x32-uncond-ddpmpp-betadiff-gpus3-batch288-fp32' 'network-snapshot-187920.pkl' 'fid-refs/cifar10-32x32.npz' 10 >> betadiff-train-runs/00000-cifar10-32x32-uncond-ddpmpp-betadiff-gpus3-batch288-fp32/FID.txt \n",
    "\n",
    "!sh FID.sh 'betadiff-train-runs/00000-cifar10-32x32-uncond-ddpmpp-betadiff-gpus3-batch288-fp32' 'network-snapshot-187920.pkl' 'fid-refs/cifar10-32x32.npz' 20 >> betadiff-train-runs/00000-cifar10-32x32-uncond-ddpmpp-betadiff-gpus3-batch288-fp32/FID.txt \n",
    "\n",
    "!sh FID.sh 'betadiff-train-runs/00000-cifar10-32x32-uncond-ddpmpp-betadiff-gpus3-batch288-fp32' 'network-snapshot-187920.pkl' 'fid-refs/cifar10-32x32.npz' 50 >> betadiff-train-runs/00000-cifar10-32x32-uncond-ddpmpp-betadiff-gpus3-batch288-fp32/FID.txt \n",
    "\n",
    "!sh FID.sh 'betadiff-train-runs/00000-cifar10-32x32-uncond-ddpmpp-betadiff-gpus3-batch288-fp32' 'network-snapshot-187920.pkl' 'fid-refs/cifar10-32x32.npz' 200 >> betadiff-train-runs/00000-cifar10-32x32-uncond-ddpmpp-betadiff-gpus3-batch288-fp32/FID.txt \n",
    "\n",
    "!sh FID.sh 'betadiff-train-runs/00000-cifar10-32x32-uncond-ddpmpp-betadiff-gpus3-batch288-fp32' 'network-snapshot-187920.pkl' 'fid-refs/cifar10-32x32.npz' 500 >> betadiff-train-runs/00000-cifar10-32x32-uncond-ddpmpp-betadiff-gpus3-batch288-fp32/FID.txt \n",
    "\n",
    "\n",
    "!sh FID.sh 'betadiff-train-runs/00000-cifar10-32x32-uncond-ddpmpp-betadiff-gpus3-batch288-fp32' 'network-snapshot-187920.pkl' 'fid-refs/cifar10-32x32.npz' 1000 >> betadiff-train-runs/00000-cifar10-32x32-uncond-ddpmpp-betadiff-gpus3-batch288-fp32/FID.txt \n",
    "\n",
    "\n",
    "!sh FID.sh 'betadiff-train-runs/00000-cifar10-32x32-uncond-ddpmpp-betadiff-gpus3-batch288-fp32' 'network-snapshot-187920.pkl' 'fid-refs/cifar10-32x32.npz' 2000 >> betadiff-train-runs/00000-cifar10-32x32-uncond-ddpmpp-betadiff-gpus3-batch288-fp32/FID.txt \n"
   ]
  },
  {
   "cell_type": "code",
   "execution_count": null,
   "id": "52b5be4f-722c-4725-bebe-557f56cae9ab",
   "metadata": {},
   "outputs": [],
   "source": []
  }
 ],
 "metadata": {
  "kernelspec": {
   "display_name": "Python 3 (ipykernel)",
   "language": "python",
   "name": "python3"
  },
  "language_info": {
   "codemirror_mode": {
    "name": "ipython",
    "version": 3
   },
   "file_extension": ".py",
   "mimetype": "text/x-python",
   "name": "python",
   "nbconvert_exporter": "python",
   "pygments_lexer": "ipython3",
   "version": "3.9.12"
  }
 },
 "nbformat": 4,
 "nbformat_minor": 5
}
