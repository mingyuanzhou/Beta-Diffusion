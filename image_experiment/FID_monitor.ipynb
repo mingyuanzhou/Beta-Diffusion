{
 "cells": [
  {
   "cell_type": "code",
   "execution_count": null,
   "id": "b061d3d7-65cb-4786-827a-626320ee6515",
   "metadata": {},
   "outputs": [],
   "source": [
    "!sh monitor.sh 'betadiff-train-runs/00000-cifar10-32x32-uncond-ddpmpp-betadiff-gpus8-batch512-fp32' 'fid-refs/cifar10-32x32.npz' 200 >> betadiff-train-runs/00000-cifar10-32x32-uncond-ddpmpp-betadiff-gpus8-batch512-fp32/log_FID.txt"
   ]
  },
  {
   "cell_type": "code",
   "execution_count": null,
   "id": "0d961774-59e0-4000-af3f-bdc27c948deb",
   "metadata": {},
   "outputs": [],
   "source": []
  }
 ],
 "metadata": {
  "kernelspec": {
   "display_name": "Python 3 (ipykernel)",
   "language": "python",
   "name": "python3"
  },
  "language_info": {
   "codemirror_mode": {
    "name": "ipython",
    "version": 3
   },
   "file_extension": ".py",
   "mimetype": "text/x-python",
   "name": "python",
   "nbconvert_exporter": "python",
   "pygments_lexer": "ipython3",
   "version": "3.9.12"
  }
 },
 "nbformat": 4,
 "nbformat_minor": 5
}
